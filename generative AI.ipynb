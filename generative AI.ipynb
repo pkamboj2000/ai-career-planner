{
 "cells": [
  {
   "cell_type": "markdown",
   "id": "673bfee1",
   "metadata": {},
   "source": [
    "Import library"
   ]
  },
  {
   "cell_type": "code",
   "execution_count": 1,
   "id": "99c7d789",
   "metadata": {},
   "outputs": [],
   "source": [
    "from langchain.chains import SequentialChain, LLMChain\n",
    "from langchain.agents import initialize_agent, Tool\n",
    "from langchain.chat_models import ChatOpenAI\n",
    "from langchain.memory import ConversationBufferMemory\n",
    "from langchain.prompts import PromptTemplate"
   ]
  },
  {
   "cell_type": "markdown",
   "id": "b937f861",
   "metadata": {},
   "source": [
    "Custom tools"
   ]
  },
  {
   "cell_type": "code",
   "execution_count": null,
   "id": "b713bc51",
   "metadata": {},
   "outputs": [
    {
     "ename": "SyntaxError",
     "evalue": "invalid syntax (2673480511.py, line 1)",
     "output_type": "error",
     "traceback": [
      "\u001b[0;36m  Cell \u001b[0;32mIn[2], line 1\u001b[0;36m\u001b[0m\n\u001b[0;31m    rom tools.job_skill_scraper import get_required_skills_from_linkedin\u001b[0m\n\u001b[0m        ^\u001b[0m\n\u001b[0;31mSyntaxError\u001b[0m\u001b[0;31m:\u001b[0m invalid syntax\n"
     ]
    }
   ],
   "source": [
    "rom tools.job_skill_scraper import get_required_skills_from_linkedin\n",
    "from tools.course_finder import find_courses_from_coursera"
   ]
  },
  {
   "cell_type": "markdown",
   "id": "52c0a11e",
   "metadata": {},
   "source": [
    "Initialize the language model and memory"
   ]
  },
  {
   "cell_type": "code",
   "execution_count": null,
   "id": "e8c1583d",
   "metadata": {},
   "outputs": [],
   "source": [
    "llm = ChatOpenAI(temperature=0)\n",
    "memory = ConversationBufferMemory(memory_key=\"chat_history\", return_messages=True)"
   ]
  },
  {
   "cell_type": "markdown",
   "id": "80b82b0c",
   "metadata": {},
   "source": [
    "Define the tools the agent can use"
   ]
  },
  {
   "cell_type": "code",
   "execution_count": null,
   "id": "3c19474b",
   "metadata": {},
   "outputs": [],
   "source": [
    "tools = [\n",
    "    Tool(\n",
    "        name=\"LinkedInSkillScraper\",\n",
    "        func=get_required_skills_from_linkedin,\n",
    "        description=\"Fetch required skills for a given job title from LinkedIn job posts.\"\n",
    "    ),\n",
    "    Tool(\n",
    "        name=\"CourseraCourseFinder\",\n",
    "        func=find_courses_from_coursera,\n",
    "        description=\"Find online Coursera courses for a list of skills.\"\n",
    "    )\n",
    "]\n"
   ]
  },
  {
   "cell_type": "markdown",
   "id": "ddb2156c",
   "metadata": {},
   "source": [
    "Initialize the agent"
   ]
  },
  {
   "cell_type": "code",
   "execution_count": null,
   "id": "a6a203c5",
   "metadata": {},
   "outputs": [],
   "source": [
    "agent = initialize_agent(\n",
    "    tools=tools,\n",
    "    llm=llm,\n",
    "    agent=\"zero-shot-react-description\",\n",
    "    memory=memory,\n",
    "    verbose=True\n",
    ")\n"
   ]
  },
  {
   "cell_type": "markdown",
   "id": "7083d2e6",
   "metadata": {},
   "source": [
    "Prompt templates for SequentialChain"
   ]
  },
  {
   "cell_type": "code",
   "execution_count": null,
   "id": "2c73006e",
   "metadata": {},
   "outputs": [],
   "source": [
    "roadmap_template = PromptTemplate(\n",
    "    input_variables=[\"user_background\", \"skills_and_courses\"],\n",
    "    template=\"\"\"\n",
    "You are an expert career coach. Based on the user's background:\n",
    "{user_background}\n",
    "\n",
    "And the following skills and courses:\n",
    "{skills_and_courses}\n",
    "\n",
    "Create a 6-month personalized learning roadmap.\n",
    "\"\"\"\n",
    ")\n",
    "\n",
    "roadmap_chain = LLMChain(llm=llm, prompt=roadmap_template, output_key=\"roadmap\")\n",
    "\n",
    "sequential_chain = SequentialChain(\n",
    "    chains=[roadmap_chain],\n",
    "    input_variables=[\"user_background\", \"skills_and_courses\"],\n",
    "    output_variables=[\"roadmap\"],\n",
    "    verbose=True\n",
    ")"
   ]
  },
  {
   "cell_type": "markdown",
   "id": "dfae8186",
   "metadata": {},
   "source": [
    " Run the full pipeline"
   ]
  },
  {
   "cell_type": "code",
   "execution_count": null,
   "id": "8f8bf922",
   "metadata": {},
   "outputs": [],
   "source": [
    "if __name__ == \"__main__\":\n",
    "    user_goal = input(\"Describe your current role and the job you want to get: \")\n",
    "    agent_response = agent.run(user_goal)\n",
    "    print(\"\\n🔁 Agent reasoning complete.\")\n",
    "\n",
    "    inputs = {\n",
    "        \"user_background\": user_goal,\n",
    "        \"skills_and_courses\": agent_response\n",
    "    }\n",
    "    roadmap_output = sequential_chain(inputs)\n",
    "\n",
    "    print(\"\\n📋 Personalized Learning Roadmap:\\n\")\n",
    "    print(roadmap_output['roadmap'])\n"
   ]
  },
  {
   "cell_type": "markdown",
   "id": "ac73c641",
   "metadata": {},
   "source": [
    "tools//job_skill_scraper.py"
   ]
  },
  {
   "cell_type": "code",
   "execution_count": null,
   "id": "84c41f93",
   "metadata": {},
   "outputs": [],
   "source": [
    "import requests\n",
    "from bs4 import BeautifulSoup\n",
    "\n",
    "def get_required_skills_from_linkedin(job_title: str) -> str:\n",
    "    # This is a simplified simulation. In production, you would use LinkedIn's official API or a service like SerpAPI.\n",
    "    query = job_title.replace(\" \", \"+\")\n",
    "    url = f\"https://www.linkedin.com/jobs/search/?keywords={query}\"\n",
    "    headers = {\"User-Agent\": \"Mozilla/5.0\"}\n",
    "    response = requests.get(url, headers=headers)\n",
    "\n",
    "    if response.status_code == 200:\n",
    "        soup = BeautifulSoup(response.text, \"html.parser\")\n",
    "        # In production, you'd parse real skills here\n",
    "        return \"Python, Machine Learning, Data Science, TensorFlow, SQL\"\n",
    "    else:\n",
    "        return \"Unable to fetch skills from LinkedIn\""
   ]
  },
  {
   "cell_type": "markdown",
   "id": "f761c5b5",
   "metadata": {},
   "source": [
    "tools/course_finder.py"
   ]
  },
  {
   "cell_type": "code",
   "execution_count": null,
   "id": "ce51bbd0",
   "metadata": {},
   "outputs": [],
   "source": [
    "import requests\n",
    "\n",
    "def find_courses_from_coursera(skills: str) -> str:\n",
    "    skills_list = skills.split(\", \")\n",
    "    results = []\n",
    "    for skill in skills_list:\n",
    "        query = skill.replace(\" \", \"%20\")\n",
    "        url = f\"https://api.coursera.org/api/courses.v1?q=search&query={query}&limit=1\"\n",
    "        response = requests.get(url)\n",
    "        if response.status_code == 200:\n",
    "            data = response.json()\n",
    "            if data.get(\"elements\"):\n",
    "                course = data[\"elements\"][0]\n",
    "                title = course.get(\"name\", \"No Title\")\n",
    "                results.append(f\"{skill}: {title} (Coursera)\")\n",
    "            else:\n",
    "                results.append(f\"{skill}: No course found\")\n",
    "        else:\n",
    "            results.append(f\"{skill}: Error fetching course\")\n",
    "    return \"\\n\".join(results)"
   ]
  },
  {
   "cell_type": "markdown",
   "id": "0af6e3fc",
   "metadata": {},
   "source": [
    "chains/roadmap_chain.py (no longer needed separately but kept for legacy)"
   ]
  },
  {
   "cell_type": "code",
   "execution_count": null,
   "id": "800e6cba",
   "metadata": {},
   "outputs": [],
   "source": [
    "def generate_roadmap(user_background: str, agent_summary: str) -> str:\n",
    "    return f\"\"\"\n",
    "User Background: {user_background}\n",
    "\n",
    "Skills & Learning Resources Identified:\n",
    "{agent_summary}\n"
   ]
  }
 ],
 "metadata": {
  "kernelspec": {
   "display_name": "base",
   "language": "python",
   "name": "python3"
  },
  "language_info": {
   "codemirror_mode": {
    "name": "ipython",
    "version": 3
   },
   "file_extension": ".py",
   "mimetype": "text/x-python",
   "name": "python",
   "nbconvert_exporter": "python",
   "pygments_lexer": "ipython3",
   "version": "3.12.7"
  }
 },
 "nbformat": 4,
 "nbformat_minor": 5
}
